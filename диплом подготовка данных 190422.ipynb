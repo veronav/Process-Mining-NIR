{
 "cells": [
  {
   "cell_type": "code",
   "execution_count": 166,
   "id": "1461897d",
   "metadata": {},
   "outputs": [],
   "source": [
    "import pandas as pd\n",
    "import matplotlib.pyplot as plt\n",
    "import seaborn as sb\n",
    "import datetime as dt"
   ]
  },
  {
   "cell_type": "code",
   "execution_count": 183,
   "id": "22533eb4",
   "metadata": {},
   "outputs": [],
   "source": [
    "data=pd.read_csv('C:/Users/user/OneDrive - Ltd.E-Promo/Desktop/диплом/data_91663710/data_03_22/91663710_0322.csv', dtype={'Дата':str,  'Client ID (Cust. Dim. 2 - S)':str})\n"
   ]
  },
  {
   "cell_type": "code",
   "execution_count": 184,
   "id": "b8cb3a28",
   "metadata": {},
   "outputs": [
    {
     "data": {
      "text/html": [
       "<div>\n",
       "<style scoped>\n",
       "    .dataframe tbody tr th:only-of-type {\n",
       "        vertical-align: middle;\n",
       "    }\n",
       "\n",
       "    .dataframe tbody tr th {\n",
       "        vertical-align: top;\n",
       "    }\n",
       "\n",
       "    .dataframe thead th {\n",
       "        text-align: right;\n",
       "    }\n",
       "</style>\n",
       "<table border=\"1\" class=\"dataframe\">\n",
       "  <thead>\n",
       "    <tr style=\"text-align: right;\">\n",
       "      <th></th>\n",
       "      <th>Unnamed: 0</th>\n",
       "      <th>Client ID (Cust. Dim. 2 - S)</th>\n",
       "      <th>Категория событий</th>\n",
       "      <th>Действие по событию</th>\n",
       "      <th>Время суток</th>\n",
       "      <th>Минута</th>\n",
       "      <th>Пользователи</th>\n",
       "      <th>Дата</th>\n",
       "    </tr>\n",
       "  </thead>\n",
       "  <tbody>\n",
       "    <tr>\n",
       "      <th>0</th>\n",
       "      <td>0</td>\n",
       "      <td>1000002170.1646539984</td>\n",
       "      <td>Internal Marketing</td>\n",
       "      <td>Promotion Impression</td>\n",
       "      <td>2022030607</td>\n",
       "      <td>13</td>\n",
       "      <td>1</td>\n",
       "      <td>202203060713</td>\n",
       "    </tr>\n",
       "    <tr>\n",
       "      <th>1</th>\n",
       "      <td>1</td>\n",
       "      <td>1000002170.1646539984</td>\n",
       "      <td>Product List</td>\n",
       "      <td>Hub_Category_2017 | M04 - Product Thumbnails |...</td>\n",
       "      <td>2022030607</td>\n",
       "      <td>13</td>\n",
       "      <td>1</td>\n",
       "      <td>202203060713</td>\n",
       "    </tr>\n",
       "    <tr>\n",
       "      <th>2</th>\n",
       "      <td>2</td>\n",
       "      <td>1000002170.1646539984</td>\n",
       "      <td>Product List</td>\n",
       "      <td>Hub_Category_2017 | M04 - Product Thumbnails |...</td>\n",
       "      <td>2022030607</td>\n",
       "      <td>13</td>\n",
       "      <td>1</td>\n",
       "      <td>202203060713</td>\n",
       "    </tr>\n",
       "    <tr>\n",
       "      <th>3</th>\n",
       "      <td>3</td>\n",
       "      <td>1000010595.1646255367</td>\n",
       "      <td>Internal Marketing</td>\n",
       "      <td>Promotion Click</td>\n",
       "      <td>2022030300</td>\n",
       "      <td>9</td>\n",
       "      <td>1</td>\n",
       "      <td>202203030009</td>\n",
       "    </tr>\n",
       "    <tr>\n",
       "      <th>4</th>\n",
       "      <td>4</td>\n",
       "      <td>1000010595.1646255367</td>\n",
       "      <td>Internal Marketing</td>\n",
       "      <td>Promotion Click</td>\n",
       "      <td>2022030300</td>\n",
       "      <td>10</td>\n",
       "      <td>1</td>\n",
       "      <td>202203030010</td>\n",
       "    </tr>\n",
       "    <tr>\n",
       "      <th>5</th>\n",
       "      <td>5</td>\n",
       "      <td>1000010595.1646255367</td>\n",
       "      <td>Internal Marketing</td>\n",
       "      <td>Promotion Impression</td>\n",
       "      <td>2022030300</td>\n",
       "      <td>9</td>\n",
       "      <td>1</td>\n",
       "      <td>202203030009</td>\n",
       "    </tr>\n",
       "    <tr>\n",
       "      <th>6</th>\n",
       "      <td>6</td>\n",
       "      <td>1000010595.1646255367</td>\n",
       "      <td>Internal Marketing</td>\n",
       "      <td>Promotion Impression</td>\n",
       "      <td>2022030300</td>\n",
       "      <td>10</td>\n",
       "      <td>1</td>\n",
       "      <td>202203030010</td>\n",
       "    </tr>\n",
       "    <tr>\n",
       "      <th>7</th>\n",
       "      <td>7</td>\n",
       "      <td>1000010595.1646255367</td>\n",
       "      <td>Internal Marketing</td>\n",
       "      <td>Promotion Impression</td>\n",
       "      <td>2022030300</td>\n",
       "      <td>11</td>\n",
       "      <td>1</td>\n",
       "      <td>202203030011</td>\n",
       "    </tr>\n",
       "    <tr>\n",
       "      <th>8</th>\n",
       "      <td>8</td>\n",
       "      <td>1000010595.1646255367</td>\n",
       "      <td>Product List</td>\n",
       "      <td>Category | Product Thumbnails | Подарки Clicks</td>\n",
       "      <td>2022030300</td>\n",
       "      <td>12</td>\n",
       "      <td>1</td>\n",
       "      <td>202203030012</td>\n",
       "    </tr>\n",
       "    <tr>\n",
       "      <th>9</th>\n",
       "      <td>9</td>\n",
       "      <td>1000010595.1646255367</td>\n",
       "      <td>Product List</td>\n",
       "      <td>Category | Product Thumbnails | Подарки impres...</td>\n",
       "      <td>2022030300</td>\n",
       "      <td>12</td>\n",
       "      <td>1</td>\n",
       "      <td>202203030012</td>\n",
       "    </tr>\n",
       "    <tr>\n",
       "      <th>10</th>\n",
       "      <td>10</td>\n",
       "      <td>1000010595.1646255367</td>\n",
       "      <td>Product List</td>\n",
       "      <td>Category | Product Thumbnails | Подарки impres...</td>\n",
       "      <td>2022030300</td>\n",
       "      <td>14</td>\n",
       "      <td>1</td>\n",
       "      <td>202203030014</td>\n",
       "    </tr>\n",
       "  </tbody>\n",
       "</table>\n",
       "</div>"
      ],
      "text/plain": [
       "    Unnamed: 0 Client ID (Cust. Dim. 2 - S)   Категория событий  \\\n",
       "0            0        1000002170.1646539984  Internal Marketing   \n",
       "1            1        1000002170.1646539984        Product List   \n",
       "2            2        1000002170.1646539984        Product List   \n",
       "3            3        1000010595.1646255367  Internal Marketing   \n",
       "4            4        1000010595.1646255367  Internal Marketing   \n",
       "5            5        1000010595.1646255367  Internal Marketing   \n",
       "6            6        1000010595.1646255367  Internal Marketing   \n",
       "7            7        1000010595.1646255367  Internal Marketing   \n",
       "8            8        1000010595.1646255367        Product List   \n",
       "9            9        1000010595.1646255367        Product List   \n",
       "10          10        1000010595.1646255367        Product List   \n",
       "\n",
       "                                  Действие по событию  Время суток  Минута  \\\n",
       "0                                Promotion Impression   2022030607      13   \n",
       "1   Hub_Category_2017 | M04 - Product Thumbnails |...   2022030607      13   \n",
       "2   Hub_Category_2017 | M04 - Product Thumbnails |...   2022030607      13   \n",
       "3                                     Promotion Click   2022030300       9   \n",
       "4                                     Promotion Click   2022030300      10   \n",
       "5                                Promotion Impression   2022030300       9   \n",
       "6                                Promotion Impression   2022030300      10   \n",
       "7                                Promotion Impression   2022030300      11   \n",
       "8      Category | Product Thumbnails | Подарки Clicks   2022030300      12   \n",
       "9   Category | Product Thumbnails | Подарки impres...   2022030300      12   \n",
       "10  Category | Product Thumbnails | Подарки impres...   2022030300      14   \n",
       "\n",
       "    Пользователи          Дата  \n",
       "0              1  202203060713  \n",
       "1              1  202203060713  \n",
       "2              1  202203060713  \n",
       "3              1  202203030009  \n",
       "4              1  202203030010  \n",
       "5              1  202203030009  \n",
       "6              1  202203030010  \n",
       "7              1  202203030011  \n",
       "8              1  202203030012  \n",
       "9              1  202203030012  \n",
       "10             1  202203030014  "
      ]
     },
     "execution_count": 184,
     "metadata": {},
     "output_type": "execute_result"
    }
   ],
   "source": [
    "data.head(11)"
   ]
  },
  {
   "cell_type": "code",
   "execution_count": 185,
   "id": "bab88dfc",
   "metadata": {},
   "outputs": [],
   "source": [
    "data= data[{'Client ID (Cust. Dim. 2 - S)','Категория событий','Действие по событию','Дата'}]"
   ]
  },
  {
   "cell_type": "code",
   "execution_count": 186,
   "id": "27a5b586",
   "metadata": {},
   "outputs": [
    {
     "data": {
      "text/html": [
       "<div>\n",
       "<style scoped>\n",
       "    .dataframe tbody tr th:only-of-type {\n",
       "        vertical-align: middle;\n",
       "    }\n",
       "\n",
       "    .dataframe tbody tr th {\n",
       "        vertical-align: top;\n",
       "    }\n",
       "\n",
       "    .dataframe thead th {\n",
       "        text-align: right;\n",
       "    }\n",
       "</style>\n",
       "<table border=\"1\" class=\"dataframe\">\n",
       "  <thead>\n",
       "    <tr style=\"text-align: right;\">\n",
       "      <th></th>\n",
       "      <th>Категория событий</th>\n",
       "      <th>Client ID (Cust. Dim. 2 - S)</th>\n",
       "      <th>Действие по событию</th>\n",
       "      <th>Дата</th>\n",
       "    </tr>\n",
       "  </thead>\n",
       "  <tbody>\n",
       "    <tr>\n",
       "      <th>0</th>\n",
       "      <td>Internal Marketing</td>\n",
       "      <td>1000002170.1646539984</td>\n",
       "      <td>Promotion Impression</td>\n",
       "      <td>202203060713</td>\n",
       "    </tr>\n",
       "    <tr>\n",
       "      <th>1</th>\n",
       "      <td>Product List</td>\n",
       "      <td>1000002170.1646539984</td>\n",
       "      <td>Hub_Category_2017 | M04 - Product Thumbnails |...</td>\n",
       "      <td>202203060713</td>\n",
       "    </tr>\n",
       "    <tr>\n",
       "      <th>2</th>\n",
       "      <td>Product List</td>\n",
       "      <td>1000002170.1646539984</td>\n",
       "      <td>Hub_Category_2017 | M04 - Product Thumbnails |...</td>\n",
       "      <td>202203060713</td>\n",
       "    </tr>\n",
       "    <tr>\n",
       "      <th>3</th>\n",
       "      <td>Internal Marketing</td>\n",
       "      <td>1000010595.1646255367</td>\n",
       "      <td>Promotion Click</td>\n",
       "      <td>202203030009</td>\n",
       "    </tr>\n",
       "    <tr>\n",
       "      <th>4</th>\n",
       "      <td>Internal Marketing</td>\n",
       "      <td>1000010595.1646255367</td>\n",
       "      <td>Promotion Click</td>\n",
       "      <td>202203030010</td>\n",
       "    </tr>\n",
       "    <tr>\n",
       "      <th>5</th>\n",
       "      <td>Internal Marketing</td>\n",
       "      <td>1000010595.1646255367</td>\n",
       "      <td>Promotion Impression</td>\n",
       "      <td>202203030009</td>\n",
       "    </tr>\n",
       "    <tr>\n",
       "      <th>6</th>\n",
       "      <td>Internal Marketing</td>\n",
       "      <td>1000010595.1646255367</td>\n",
       "      <td>Promotion Impression</td>\n",
       "      <td>202203030010</td>\n",
       "    </tr>\n",
       "    <tr>\n",
       "      <th>7</th>\n",
       "      <td>Internal Marketing</td>\n",
       "      <td>1000010595.1646255367</td>\n",
       "      <td>Promotion Impression</td>\n",
       "      <td>202203030011</td>\n",
       "    </tr>\n",
       "    <tr>\n",
       "      <th>8</th>\n",
       "      <td>Product List</td>\n",
       "      <td>1000010595.1646255367</td>\n",
       "      <td>Category | Product Thumbnails | Подарки Clicks</td>\n",
       "      <td>202203030012</td>\n",
       "    </tr>\n",
       "    <tr>\n",
       "      <th>9</th>\n",
       "      <td>Product List</td>\n",
       "      <td>1000010595.1646255367</td>\n",
       "      <td>Category | Product Thumbnails | Подарки impres...</td>\n",
       "      <td>202203030012</td>\n",
       "    </tr>\n",
       "    <tr>\n",
       "      <th>10</th>\n",
       "      <td>Product List</td>\n",
       "      <td>1000010595.1646255367</td>\n",
       "      <td>Category | Product Thumbnails | Подарки impres...</td>\n",
       "      <td>202203030014</td>\n",
       "    </tr>\n",
       "  </tbody>\n",
       "</table>\n",
       "</div>"
      ],
      "text/plain": [
       "     Категория событий Client ID (Cust. Dim. 2 - S)  \\\n",
       "0   Internal Marketing        1000002170.1646539984   \n",
       "1         Product List        1000002170.1646539984   \n",
       "2         Product List        1000002170.1646539984   \n",
       "3   Internal Marketing        1000010595.1646255367   \n",
       "4   Internal Marketing        1000010595.1646255367   \n",
       "5   Internal Marketing        1000010595.1646255367   \n",
       "6   Internal Marketing        1000010595.1646255367   \n",
       "7   Internal Marketing        1000010595.1646255367   \n",
       "8         Product List        1000010595.1646255367   \n",
       "9         Product List        1000010595.1646255367   \n",
       "10        Product List        1000010595.1646255367   \n",
       "\n",
       "                                  Действие по событию          Дата  \n",
       "0                                Promotion Impression  202203060713  \n",
       "1   Hub_Category_2017 | M04 - Product Thumbnails |...  202203060713  \n",
       "2   Hub_Category_2017 | M04 - Product Thumbnails |...  202203060713  \n",
       "3                                     Promotion Click  202203030009  \n",
       "4                                     Promotion Click  202203030010  \n",
       "5                                Promotion Impression  202203030009  \n",
       "6                                Promotion Impression  202203030010  \n",
       "7                                Promotion Impression  202203030011  \n",
       "8      Category | Product Thumbnails | Подарки Clicks  202203030012  \n",
       "9   Category | Product Thumbnails | Подарки impres...  202203030012  \n",
       "10  Category | Product Thumbnails | Подарки impres...  202203030014  "
      ]
     },
     "execution_count": 186,
     "metadata": {},
     "output_type": "execute_result"
    }
   ],
   "source": [
    "data.head(11)"
   ]
  },
  {
   "cell_type": "code",
   "execution_count": 187,
   "id": "82023184",
   "metadata": {},
   "outputs": [
    {
     "data": {
      "text/plain": [
       "array(['Internal Marketing', 'Product List', 'Cart', 'Account',\n",
       "       'Checkout', 'Search', 'Store Locator', 'Product', 'Video',\n",
       "       'Contact', 'Franchise'], dtype=object)"
      ]
     },
     "execution_count": 187,
     "metadata": {},
     "output_type": "execute_result"
    }
   ],
   "source": [
    "# вывод уникальных значений категорий событий\n",
    "data[\"Категория событий\"].unique()"
   ]
  },
  {
   "cell_type": "code",
   "execution_count": 188,
   "id": "73ef0ce6",
   "metadata": {},
   "outputs": [
    {
     "name": "stdout",
     "output_type": "stream",
     "text": [
      "['Promotion Impression' 'Promotion Click']\n",
      "['Hub_Category_2017 | M04 - Product Thumbnails | Рекомендуемые продукты impressions'\n",
      " 'Hub_Category_2017 | M04 - Product Thumbnails | Рекомендуемые продукты View'\n",
      " 'Category | Product Thumbnails | Подарки Clicks' ...\n",
      " 'Search | Product Thumbnails | результат поиска лосьон для рук Clicks'\n",
      " 'Category | Product Thumbnails | Make up Clicks'\n",
      " 'Search | Product Thumbnails | результат поиска карите 25% Clicks']\n",
      "['Add To Cart' 'Remove from cart' 'Click on Checkout AB test' 'Empty Cart']\n",
      "['Login' 'Creation' 'Skincare Diagnostic Completed'\n",
      " 'Beauty Profile Completed' 'Click on Login/Signup']\n",
      "['Delivery Options' 'Payment Methods' 'Purchase' 'undefined' 'Step'\n",
      " 'Creation']\n",
      "['filter' 'Filter' 'Sort']\n",
      "['Boutique Click' 'Filter' 'Change Tab']\n",
      "['Review Button Click' 'Add to Wishlist' 'Clicks on Pictures'\n",
      " 'Click on БЕСТСЕЛЛЕРЫ tab' 'Click on ПОДАРКИ tab'\n",
      " 'Click on ПРИМЕНЕНИЕ tab' 'Click on ЦЕДРАТ tab' 'Check Stock in Store'\n",
      " 'Click on ИНГРЕДИЕНТЫ tab' 'Click on МЫЛО tab'\n",
      " 'Click on AQUA REOTIER tab' 'Click on ИММОРТЕЛЬ tab'\n",
      " 'Click on ОПИСАНИЕ tab' 'Click on ВЕРБЕНА tab'\n",
      " 'Back In Stock Notification' 'Click on КАРИТЕ tab' 'Click on ПИОН tab'\n",
      " 'Click on АРОМАКОЛОГИЯ tab' 'Click on ВИШНЁВЫЙ ЦВЕТ tab'\n",
      " 'Click on TERRE DE LUMIÈRE tab' 'Click on РОЗА tab'\n",
      " 'Click on МИНДАЛЬ tab' 'Click on ЛАВАНДА tab' 'Click on БО tab'\n",
      " 'Click on НОВИНКИ tab' 'Click on ЛИЦО tab' 'Review Submitted'\n",
      " 'Click on БЕЛАЯ КОРОЛЕВА tab' 'Click on АКЦИИ tab' 'Click on ТЕЛО tab'\n",
      " 'Click on О НАС tab' 'Click on БОНН МЕР tab'\n",
      " 'Click on ДЛЯ ТЕЛА И РУК tab' 'Click on ТРЕВЕЛ-ФОРМАТЫ tab'\n",
      " 'Click on BESTSELLERS tab' 'Click on ПАРФЮМЕРИЯ tab' 'Click on ЛИНИИ tab'\n",
      " 'Click on ГРЕЙПФРУТ-РЕВЕНЬ tab' 'Click on ДЛЯ МУЖЧИН tab'\n",
      " 'Click on МОЖЖЕВЕЛЬНИК tab' \"Click on Л'ОКСИТАН tab\"\n",
      " 'Click on ВОЛОСЫ tab' 'Click on КОЛЛЕКЦИЯ ИЗ ГРАССА tab'\n",
      " 'Click on APPLICATION tab' 'Click on 畅销书 tab' 'Click on АРЛЕЗЬЕН tab'\n",
      " 'Click on 卡莱特 tab' 'Click on 应用 tab'\n",
      " 'Click on ЖАСМИН-ИММОРТЕЛЬ-НЕРОЛИ tab' 'Click on DESCRIPTION tab'\n",
      " 'Click on INGREDIENTS tab' 'Click on МАКИЯЖ tab'\n",
      " 'Click on IMMORTELLE tab' 'Click on 马鞭草 tab' 'Click on КАРИТЭ tab']\n",
      "['100%' '25%' '50%' '75%' 'Play' 'Watch to End']\n",
      "['Newsletter subscription']\n",
      "['Send Form Button']\n"
     ]
    }
   ],
   "source": [
    "print(data['Действие по событию'].loc[data['Категория событий']== 'Internal Marketing'].unique())\n",
    "print(data['Действие по событию'].loc[data['Категория событий']== 'Product List'].unique())\n",
    "print(data['Действие по событию'].loc[data['Категория событий']== 'Cart'].unique())\n",
    "print(data['Действие по событию'].loc[data['Категория событий']== 'Account'].unique())\n",
    "print(data['Действие по событию'].loc[data['Категория событий']== 'Checkout'].unique())\n",
    "print(data['Действие по событию'].loc[data['Категория событий']== 'Search'].unique())\n",
    "print(data['Действие по событию'].loc[data['Категория событий']== 'Store Locator'].unique())\n",
    "print(data['Действие по событию'].loc[data['Категория событий']== 'Product'].unique())\n",
    "print(data['Действие по событию'].loc[data['Категория событий']== 'Video'].unique())\n",
    "print(data['Действие по событию'].loc[data['Категория событий']== 'Contact'].unique())\n",
    "print(data['Действие по событию'].loc[data['Категория событий']== 'Franchise'].unique())"
   ]
  },
  {
   "cell_type": "code",
   "execution_count": 189,
   "id": "5309e66f",
   "metadata": {},
   "outputs": [],
   "source": [
    "data['Действие по событию'].loc[data['Категория событий']== 'Product List'] = 'View'"
   ]
  },
  {
   "cell_type": "code",
   "execution_count": 190,
   "id": "0714ca5a",
   "metadata": {},
   "outputs": [
    {
     "name": "stdout",
     "output_type": "stream",
     "text": [
      "['View']\n"
     ]
    }
   ],
   "source": [
    "print(data['Действие по событию'].loc[data['Категория событий']== 'Product List'].unique())"
   ]
  },
  {
   "cell_type": "code",
   "execution_count": 191,
   "id": "6e0547ac",
   "metadata": {},
   "outputs": [],
   "source": [
    "# data['Действие по событию'].loc[((data['Категория событий']== 'Product') & (data['Действие по событию']!= 'Review Button Click'))|\n",
    "#                                 ((data['Категория событий']== 'Product') & (data['Действие по событию']!= 'Add to Wishlist'))|\n",
    "#                                 ((data['Категория событий']== 'Product') & (data['Действие по событию']!= 'Clicks on Pictures'))|\n",
    "#                                 ((data['Категория событий']== 'Product') & (data['Действие по событию']!= 'Review Submitted'))\n",
    "#                                ] = 'Clicks on the card'"
   ]
  },
  {
   "cell_type": "code",
   "execution_count": 192,
   "id": "2853c2b2",
   "metadata": {},
   "outputs": [],
   "source": [
    "# data['Действие по событию'].loc[((data['Категория событий']== 'Product') & (data['Действие по событию']== 'Review Button Click'))|\n",
    "#                                 ((data['Категория событий']== 'Product') & (data['Действие по событию']== 'Add to Wishlist'))|\n",
    "#                                 ((data['Категория событий']== 'Product') & (data['Действие по событию']== 'Clicks on Pictures'))|\n",
    "#                                 ((data['Категория событий']== 'Product') & (data['Действие по событию']== 'Review Submitted'))\n",
    "#                                ] = 'Clicks on the card'"
   ]
  },
  {
   "cell_type": "code",
   "execution_count": 193,
   "id": "97315cf1",
   "metadata": {},
   "outputs": [],
   "source": [
    "data['Действие по событию'].loc[((data['Категория событий']== 'Product') \n",
    "                                 & (data['Действие по событию']!= 'Review Button Click')\n",
    "                                 & (data['Действие по событию']!= 'Add to Wishlist')\n",
    "                                 & (data['Действие по событию']!= 'Clicks on Pictures')\n",
    "                                 & (data['Действие по событию']!= 'Review Submitted'))\n",
    "                               ] = 'Clicks on the card'"
   ]
  },
  {
   "cell_type": "code",
   "execution_count": 194,
   "id": "19772fa8",
   "metadata": {},
   "outputs": [
    {
     "name": "stdout",
     "output_type": "stream",
     "text": [
      "['Review Button Click' 'Add to Wishlist' 'Clicks on Pictures'\n",
      " 'Clicks on the card' 'Review Submitted']\n"
     ]
    }
   ],
   "source": [
    "print(data['Действие по событию'].loc[data['Категория событий']== 'Product'].unique())"
   ]
  },
  {
   "cell_type": "code",
   "execution_count": 195,
   "id": "5da85b50",
   "metadata": {},
   "outputs": [],
   "source": [
    "# data['Действие по событию']!= ['Review Button Click','Add to Wishlist']"
   ]
  },
  {
   "cell_type": "code",
   "execution_count": 182,
   "id": "cf065846",
   "metadata": {},
   "outputs": [],
   "source": [
    "data.to_csv('C:/Users/user/OneDrive - Ltd.E-Promo/Desktop/диплом/data_91663710/data_03_22/91663710_0322_new.csv')"
   ]
  },
  {
   "cell_type": "code",
   "execution_count": 196,
   "id": "3e597fe2",
   "metadata": {},
   "outputs": [
    {
     "name": "stdout",
     "output_type": "stream",
     "text": [
      "Internal Marketing: ['Promotion Impression' 'Promotion Click']\n",
      "Product List: ['View']\n",
      "Cart: ['Add To Cart' 'Remove from cart' 'Click on Checkout AB test' 'Empty Cart']\n",
      "Account: ['Login' 'Creation' 'Skincare Diagnostic Completed'\n",
      " 'Beauty Profile Completed' 'Click on Login/Signup']\n",
      "Checkout: ['Delivery Options' 'Payment Methods' 'Purchase' 'undefined' 'Step'\n",
      " 'Creation']\n",
      "Search: ['filter' 'Filter' 'Sort']\n",
      "Store Locator: ['Boutique Click' 'Filter' 'Change Tab']\n",
      "Product: ['Review Button Click' 'Add to Wishlist' 'Clicks on Pictures'\n",
      " 'Clicks on the card' 'Review Submitted']\n",
      "Video: ['100%' '25%' '50%' '75%' 'Play' 'Watch to End']\n",
      "Contact: ['Newsletter subscription']\n",
      "Franchise: ['Send Form Button']\n"
     ]
    }
   ],
   "source": [
    "print(\"Internal Marketing:\", data['Действие по событию'].loc[data['Категория событий']== 'Internal Marketing'].unique())\n",
    "print(\"Product List:\", data['Действие по событию'].loc[data['Категория событий']== 'Product List'].unique())\n",
    "print(\"Cart:\",data['Действие по событию'].loc[data['Категория событий']== 'Cart'].unique())\n",
    "print(\"Account:\",data['Действие по событию'].loc[data['Категория событий']== 'Account'].unique())\n",
    "print(\"Checkout:\",data['Действие по событию'].loc[data['Категория событий']== 'Checkout'].unique())\n",
    "print(\"Search:\",data['Действие по событию'].loc[data['Категория событий']== 'Search'].unique())\n",
    "print(\"Store Locator:\",data['Действие по событию'].loc[data['Категория событий']== 'Store Locator'].unique())\n",
    "print(\"Product:\",data['Действие по событию'].loc[data['Категория событий']== 'Product'].unique())\n",
    "print(\"Video:\",data['Действие по событию'].loc[data['Категория событий']== 'Video'].unique())\n",
    "print(\"Contact:\",data['Действие по событию'].loc[data['Категория событий']== 'Contact'].unique())\n",
    "print(\"Franchise:\",data['Действие по событию'].loc[data['Категория событий']== 'Franchise'].unique())"
   ]
  },
  {
   "cell_type": "code",
   "execution_count": null,
   "id": "3576c754",
   "metadata": {},
   "outputs": [],
   "source": []
  },
  {
   "cell_type": "code",
   "execution_count": null,
   "id": "215cb5c0",
   "metadata": {},
   "outputs": [],
   "source": [
    "2928472 rows × 4 columns"
   ]
  },
  {
   "cell_type": "code",
   "execution_count": 23,
   "id": "ac9f0506",
   "metadata": {},
   "outputs": [],
   "source": [
    "data['Дата']=data['Время суток']+data['Минута']"
   ]
  },
  {
   "cell_type": "code",
   "execution_count": 181,
   "id": "94ac9718",
   "metadata": {},
   "outputs": [
    {
     "data": {
      "text/html": [
       "<div>\n",
       "<style scoped>\n",
       "    .dataframe tbody tr th:only-of-type {\n",
       "        vertical-align: middle;\n",
       "    }\n",
       "\n",
       "    .dataframe tbody tr th {\n",
       "        vertical-align: top;\n",
       "    }\n",
       "\n",
       "    .dataframe thead th {\n",
       "        text-align: right;\n",
       "    }\n",
       "</style>\n",
       "<table border=\"1\" class=\"dataframe\">\n",
       "  <thead>\n",
       "    <tr style=\"text-align: right;\">\n",
       "      <th></th>\n",
       "      <th>Категория событий</th>\n",
       "      <th>Client ID (Cust. Dim. 2 - S)</th>\n",
       "      <th>Действие по событию</th>\n",
       "      <th>Дата</th>\n",
       "    </tr>\n",
       "  </thead>\n",
       "  <tbody>\n",
       "    <tr>\n",
       "      <th>0</th>\n",
       "      <td>Internal Marketing</td>\n",
       "      <td>1000002170.1646539984</td>\n",
       "      <td>Promotion Impression</td>\n",
       "      <td>202203060713</td>\n",
       "    </tr>\n",
       "    <tr>\n",
       "      <th>1</th>\n",
       "      <td>Product List</td>\n",
       "      <td>1000002170.1646539984</td>\n",
       "      <td>View</td>\n",
       "      <td>202203060713</td>\n",
       "    </tr>\n",
       "    <tr>\n",
       "      <th>2</th>\n",
       "      <td>Product List</td>\n",
       "      <td>1000002170.1646539984</td>\n",
       "      <td>View</td>\n",
       "      <td>202203060713</td>\n",
       "    </tr>\n",
       "    <tr>\n",
       "      <th>3</th>\n",
       "      <td>Internal Marketing</td>\n",
       "      <td>1000010595.1646255367</td>\n",
       "      <td>Promotion Click</td>\n",
       "      <td>202203030009</td>\n",
       "    </tr>\n",
       "    <tr>\n",
       "      <th>4</th>\n",
       "      <td>Internal Marketing</td>\n",
       "      <td>1000010595.1646255367</td>\n",
       "      <td>Promotion Click</td>\n",
       "      <td>202203030010</td>\n",
       "    </tr>\n",
       "    <tr>\n",
       "      <th>5</th>\n",
       "      <td>Internal Marketing</td>\n",
       "      <td>1000010595.1646255367</td>\n",
       "      <td>Promotion Impression</td>\n",
       "      <td>202203030009</td>\n",
       "    </tr>\n",
       "    <tr>\n",
       "      <th>6</th>\n",
       "      <td>Internal Marketing</td>\n",
       "      <td>1000010595.1646255367</td>\n",
       "      <td>Promotion Impression</td>\n",
       "      <td>202203030010</td>\n",
       "    </tr>\n",
       "    <tr>\n",
       "      <th>7</th>\n",
       "      <td>Internal Marketing</td>\n",
       "      <td>1000010595.1646255367</td>\n",
       "      <td>Promotion Impression</td>\n",
       "      <td>202203030011</td>\n",
       "    </tr>\n",
       "    <tr>\n",
       "      <th>8</th>\n",
       "      <td>Product List</td>\n",
       "      <td>1000010595.1646255367</td>\n",
       "      <td>View</td>\n",
       "      <td>202203030012</td>\n",
       "    </tr>\n",
       "    <tr>\n",
       "      <th>9</th>\n",
       "      <td>Product List</td>\n",
       "      <td>1000010595.1646255367</td>\n",
       "      <td>View</td>\n",
       "      <td>202203030012</td>\n",
       "    </tr>\n",
       "    <tr>\n",
       "      <th>10</th>\n",
       "      <td>Product List</td>\n",
       "      <td>1000010595.1646255367</td>\n",
       "      <td>View</td>\n",
       "      <td>202203030014</td>\n",
       "    </tr>\n",
       "    <tr>\n",
       "      <th>11</th>\n",
       "      <td>Product List</td>\n",
       "      <td>1000010595.1646255367</td>\n",
       "      <td>View</td>\n",
       "      <td>202203030012</td>\n",
       "    </tr>\n",
       "    <tr>\n",
       "      <th>12</th>\n",
       "      <td>Product List</td>\n",
       "      <td>1000010595.1646255367</td>\n",
       "      <td>View</td>\n",
       "      <td>202203030009</td>\n",
       "    </tr>\n",
       "    <tr>\n",
       "      <th>13</th>\n",
       "      <td>Product List</td>\n",
       "      <td>1000010595.1646255367</td>\n",
       "      <td>View</td>\n",
       "      <td>202203030009</td>\n",
       "    </tr>\n",
       "    <tr>\n",
       "      <th>14</th>\n",
       "      <td>Product List</td>\n",
       "      <td>1000010595.1646255367</td>\n",
       "      <td>View</td>\n",
       "      <td>202203030010</td>\n",
       "    </tr>\n",
       "    <tr>\n",
       "      <th>15</th>\n",
       "      <td>Product List</td>\n",
       "      <td>1000010595.1646255367</td>\n",
       "      <td>View</td>\n",
       "      <td>202203030010</td>\n",
       "    </tr>\n",
       "    <tr>\n",
       "      <th>16</th>\n",
       "      <td>Product List</td>\n",
       "      <td>1000010595.1646255367</td>\n",
       "      <td>View</td>\n",
       "      <td>202203030010</td>\n",
       "    </tr>\n",
       "    <tr>\n",
       "      <th>17</th>\n",
       "      <td>Product List</td>\n",
       "      <td>1000010595.1646255367</td>\n",
       "      <td>View</td>\n",
       "      <td>202203030010</td>\n",
       "    </tr>\n",
       "    <tr>\n",
       "      <th>18</th>\n",
       "      <td>Product List</td>\n",
       "      <td>1000010595.1646255367</td>\n",
       "      <td>View</td>\n",
       "      <td>202203030011</td>\n",
       "    </tr>\n",
       "    <tr>\n",
       "      <th>19</th>\n",
       "      <td>Product List</td>\n",
       "      <td>1000010595.1646255367</td>\n",
       "      <td>View</td>\n",
       "      <td>202203030010</td>\n",
       "    </tr>\n",
       "    <tr>\n",
       "      <th>20</th>\n",
       "      <td>Product List</td>\n",
       "      <td>1000010595.1646255367</td>\n",
       "      <td>View</td>\n",
       "      <td>202203030011</td>\n",
       "    </tr>\n",
       "    <tr>\n",
       "      <th>21</th>\n",
       "      <td>Product List</td>\n",
       "      <td>1000010595.1646255367</td>\n",
       "      <td>View</td>\n",
       "      <td>202203030010</td>\n",
       "    </tr>\n",
       "    <tr>\n",
       "      <th>22</th>\n",
       "      <td>Product List</td>\n",
       "      <td>1000010595.1646255367</td>\n",
       "      <td>View</td>\n",
       "      <td>202203030011</td>\n",
       "    </tr>\n",
       "    <tr>\n",
       "      <th>23</th>\n",
       "      <td>Internal Marketing</td>\n",
       "      <td>1000026173.1646236652</td>\n",
       "      <td>Promotion Impression</td>\n",
       "      <td>202203021857</td>\n",
       "    </tr>\n",
       "    <tr>\n",
       "      <th>24</th>\n",
       "      <td>Cart</td>\n",
       "      <td>1000027489.1646337244</td>\n",
       "      <td>Add To Cart</td>\n",
       "      <td>202203032254</td>\n",
       "    </tr>\n",
       "  </tbody>\n",
       "</table>\n",
       "</div>"
      ],
      "text/plain": [
       "     Категория событий Client ID (Cust. Dim. 2 - S)   Действие по событию  \\\n",
       "0   Internal Marketing        1000002170.1646539984  Promotion Impression   \n",
       "1         Product List        1000002170.1646539984                  View   \n",
       "2         Product List        1000002170.1646539984                  View   \n",
       "3   Internal Marketing        1000010595.1646255367       Promotion Click   \n",
       "4   Internal Marketing        1000010595.1646255367       Promotion Click   \n",
       "5   Internal Marketing        1000010595.1646255367  Promotion Impression   \n",
       "6   Internal Marketing        1000010595.1646255367  Promotion Impression   \n",
       "7   Internal Marketing        1000010595.1646255367  Promotion Impression   \n",
       "8         Product List        1000010595.1646255367                  View   \n",
       "9         Product List        1000010595.1646255367                  View   \n",
       "10        Product List        1000010595.1646255367                  View   \n",
       "11        Product List        1000010595.1646255367                  View   \n",
       "12        Product List        1000010595.1646255367                  View   \n",
       "13        Product List        1000010595.1646255367                  View   \n",
       "14        Product List        1000010595.1646255367                  View   \n",
       "15        Product List        1000010595.1646255367                  View   \n",
       "16        Product List        1000010595.1646255367                  View   \n",
       "17        Product List        1000010595.1646255367                  View   \n",
       "18        Product List        1000010595.1646255367                  View   \n",
       "19        Product List        1000010595.1646255367                  View   \n",
       "20        Product List        1000010595.1646255367                  View   \n",
       "21        Product List        1000010595.1646255367                  View   \n",
       "22        Product List        1000010595.1646255367                  View   \n",
       "23  Internal Marketing        1000026173.1646236652  Promotion Impression   \n",
       "24                Cart        1000027489.1646337244           Add To Cart   \n",
       "\n",
       "            Дата  \n",
       "0   202203060713  \n",
       "1   202203060713  \n",
       "2   202203060713  \n",
       "3   202203030009  \n",
       "4   202203030010  \n",
       "5   202203030009  \n",
       "6   202203030010  \n",
       "7   202203030011  \n",
       "8   202203030012  \n",
       "9   202203030012  \n",
       "10  202203030014  \n",
       "11  202203030012  \n",
       "12  202203030009  \n",
       "13  202203030009  \n",
       "14  202203030010  \n",
       "15  202203030010  \n",
       "16  202203030010  \n",
       "17  202203030010  \n",
       "18  202203030011  \n",
       "19  202203030010  \n",
       "20  202203030011  \n",
       "21  202203030010  \n",
       "22  202203030011  \n",
       "23  202203021857  \n",
       "24  202203032254  "
      ]
     },
     "execution_count": 181,
     "metadata": {},
     "output_type": "execute_result"
    }
   ],
   "source": [
    "data[''].head(25)"
   ]
  },
  {
   "cell_type": "code",
   "execution_count": null,
   "id": "f0a8d4f7",
   "metadata": {},
   "outputs": [],
   "source": []
  },
  {
   "cell_type": "code",
   "execution_count": null,
   "id": "44087e24",
   "metadata": {},
   "outputs": [],
   "source": []
  },
  {
   "cell_type": "code",
   "execution_count": 25,
   "id": "be2291f3",
   "metadata": {},
   "outputs": [],
   "source": [
    "# # преобразование столбца с датами в формат даты\n",
    "# data[\"Дата\"] = pd.to_datetime(data[\"Дата\"]).dt.strftime('%Y-%m-%d')\n",
    "# data.head()"
   ]
  },
  {
   "cell_type": "code",
   "execution_count": 26,
   "id": "282de8fa",
   "metadata": {},
   "outputs": [
    {
     "data": {
      "text/plain": [
       "array(['Internal Marketing', 'Product List', 'Cart', 'Account',\n",
       "       'Checkout', 'Search', 'Store Locator', 'Product', 'Video',\n",
       "       'Contact', 'Franchise'], dtype=object)"
      ]
     },
     "execution_count": 26,
     "metadata": {},
     "output_type": "execute_result"
    }
   ],
   "source": [
    "# вывод уникальных значений категорий событий\n",
    "data[\"Категория событий\"].unique()"
   ]
  },
  {
   "cell_type": "code",
   "execution_count": 27,
   "id": "4ab06441",
   "metadata": {},
   "outputs": [
    {
     "name": "stdout",
     "output_type": "stream",
     "text": [
      "              category    count\n",
      "0         Product List  2076868\n",
      "1   Internal Marketing   599294\n",
      "2                 Cart   114443\n",
      "3             Checkout    49776\n",
      "4              Product    34893\n",
      "5               Search    33879\n",
      "6              Account    15523\n",
      "7        Store Locator     3092\n",
      "8                Video      349\n",
      "9              Contact      329\n",
      "10           Franchise       26\n"
     ]
    },
    {
     "data": {
      "image/png": "[encoded data removed]",
      "text/plain": [
       "<Figure size 432x288 with 1 Axes>"
      ]
     },
     "metadata": {
      "needs_background": "light"
     },
     "output_type": "display_data"
    }
   ],
   "source": [
    "# количество уникальных совпадений в data[\"Категория событий\"]\n",
    "data[\"Категория событий\"].value_counts()\n",
    "\n",
    "data_category=pd.DataFrame(data[\"Категория событий\"].value_counts().reset_index().values,  columns=[\"category\", \"count\"])\n",
    "print(data_category)\n",
    "plt.bar(data_category[\"category\"], data_category[\"count\"])\n",
    "plt.xticks(rotation=45, ha='right')\n",
    "plt.show()\n",
    "\n",
    "# можно удалить события \n",
    "# 8                Video      349\n",
    "# 9              Contact      329\n",
    "# 10           Franchise       26"
   ]
  },
  {
   "cell_type": "code",
   "execution_count": 28,
   "id": "9ee000d4",
   "metadata": {},
   "outputs": [
    {
     "data": {
      "text/plain": [
       "196757"
      ]
     },
     "execution_count": 28,
     "metadata": {},
     "output_type": "execute_result"
    }
   ],
   "source": [
    "# количество уникальных совпадений в data[\"Client ID (Cust. Dim. 2 - S)\"]\n",
    "data[\"Client ID (Cust. Dim. 2 - S)\"].nunique()"
   ]
  },
  {
   "cell_type": "code",
   "execution_count": 29,
   "id": "e92f4b33",
   "metadata": {},
   "outputs": [
    {
     "name": "stdout",
     "output_type": "stream",
     "text": [
      "                       client count\n",
      "158998   172726607.1648485777     2\n",
      "158999   571396728.1646574710     2\n",
      "159000  1362675279.1646652573     2\n",
      "159001  2070274874.1646855559     2\n",
      "159002  2075198399.1647166247     2\n",
      "...                       ...   ...\n",
      "196752  1834573369.1648614743     1\n",
      "196753  1919892460.1646087719     1\n",
      "196754  1834374618.1647860175     1\n",
      "196755  1919978148.1646135831     1\n",
      "196756   518181438.1646931067     1\n",
      "\n",
      "[37759 rows x 2 columns]\n"
     ]
    }
   ],
   "source": [
    "# количество уникальных совпадений в data[\"Client ID (Cust. Dim. 2 - S)\"]\n",
    "# то есть данные пользователи совершали следующее количество событий\n",
    "data[\"Client ID (Cust. Dim. 2 - S)\"].value_counts()\n",
    "\n",
    "data_client=pd.DataFrame(data[\"Client ID (Cust. Dim. 2 - S)\"].value_counts().reset_index().values,  columns=[\"client\", \"count\"])\n",
    "\n",
    "# можно удалить тех клиентов, у кого количество совершенных событий менее 3, т к они слишком мало совершенный действий (это 392088  Client ID)\n",
    "print(data_client[data_client[\"count\"]<3])"
   ]
  },
  {
   "cell_type": "code",
   "execution_count": 46,
   "id": "9a62a468",
   "metadata": {},
   "outputs": [],
   "source": [
    "data['Дата']=data['Дата'].astype('datetime64[ns]')\n",
    "day=pd.Grouper(key=\"Дата\", freq=\"D\")\n",
    "\n",
    "#  распределение пользователей по дням\n",
    "data_day=data.groupby([day])\\\n",
    "                .sum().reset_index()"
   ]
  },
  {
   "cell_type": "code",
   "execution_count": 47,
   "id": "f29a87aa",
   "metadata": {},
   "outputs": [
    {
     "data": {
      "image/png": "[encoded data removed]",
      "text/plain": [
       "<Figure size 432x288 with 1 Axes>"
      ]
     },
     "metadata": {
      "needs_background": "light"
     },
     "output_type": "display_data"
    }
   ],
   "source": [
    "#  распределение пользователей по дням\n",
    "plt.plot(data_day[\"Дата\"], data_day[\"Пользователи\"], label = 'Пользователи')\n",
    "plt.xticks(rotation=45, ha='right')\n",
    "plt.legend( loc=2)\n",
    "plt.show()"
   ]
  },
  {
   "cell_type": "code",
   "execution_count": 31,
   "id": "138e7bc8",
   "metadata": {},
   "outputs": [],
   "source": [
    "data.to_csv('C:/Users/user/OneDrive - Ltd.E-Promo/Desktop/диплом/data_91663710/data_03_22/91663710_0322.csv')"
   ]
  },
  {
   "cell_type": "code",
   "execution_count": 32,
   "id": "81aa6662",
   "metadata": {},
   "outputs": [
    {
     "name": "stdout",
     "output_type": "stream",
     "text": [
      "<class 'pandas.core.frame.DataFrame'>\n",
      "RangeIndex: 2928472 entries, 0 to 2928471\n",
      "Data columns (total 7 columns):\n",
      " #   Column                        Dtype \n",
      "---  ------                        ----- \n",
      " 0   Client ID (Cust. Dim. 2 - S)  object\n",
      " 1   Категория событий             object\n",
      " 2   Действие по событию           object\n",
      " 3   Время суток                   object\n",
      " 4   Минута                        object\n",
      " 5   Пользователи                  int64 \n",
      " 6   Дата                          object\n",
      "dtypes: int64(1), object(6)\n",
      "memory usage: 156.4+ MB\n"
     ]
    }
   ],
   "source": [
    "data.info()"
   ]
  },
  {
   "cell_type": "code",
   "execution_count": 50,
   "id": "4b0186f7",
   "metadata": {},
   "outputs": [],
   "source": [
    "data = data.loc[data['Категория событий'] != 'flocktory-precheckout']"
   ]
  },
  {
   "cell_type": "code",
   "execution_count": 54,
   "id": "4f1b8b57",
   "metadata": {},
   "outputs": [
    {
     "data": {
      "text/plain": [
       "array(['Product List', 'Internal Marketing', 'Account', 'Cart',\n",
       "       'Checkout', 'Product', 'Search', 'Video', 'Store Locator',\n",
       "       'Contact', 'Franchise', 'Social'], dtype=object)"
      ]
     },
     "execution_count": 54,
     "metadata": {},
     "output_type": "execute_result"
    }
   ],
   "source": [
    "data[\"Категория событий\"].unique()"
   ]
  },
  {
   "cell_type": "code",
   "execution_count": 52,
   "id": "d91939ae",
   "metadata": {},
   "outputs": [],
   "source": [
    "data = data.loc[data['Категория событий'] != 'Scroll']"
   ]
  },
  {
   "cell_type": "code",
   "execution_count": 53,
   "id": "cb52de28",
   "metadata": {},
   "outputs": [],
   "source": [
    "data = data.loc[data['Категория событий'] != 'Scroll Depth']\n",
    "# data = data.loc[data['Категория событий'] != 'Scroll Depth']"
   ]
  },
  {
   "cell_type": "code",
   "execution_count": 55,
   "id": "2a179cee",
   "metadata": {},
   "outputs": [
    {
     "name": "stdout",
     "output_type": "stream",
     "text": [
      "<class 'pandas.core.frame.DataFrame'>\n",
      "Int64Index: 2009209 entries, 0 to 2570517\n",
      "Data columns (total 4 columns):\n",
      " #   Column                        Dtype         \n",
      "---  ------                        -----         \n",
      " 0   Client ID (Cust. Dim. 2 - S)  object        \n",
      " 1   Категория событий             object        \n",
      " 2   Дата                          datetime64[ns]\n",
      " 3   Пользователи                  int64         \n",
      "dtypes: datetime64[ns](1), int64(1), object(2)\n",
      "memory usage: 76.6+ MB\n"
     ]
    }
   ],
   "source": [
    "data.info()"
   ]
  },
  {
   "cell_type": "code",
   "execution_count": 56,
   "id": "1b338b68",
   "metadata": {},
   "outputs": [],
   "source": [
    "data.to_csv('C:/Users/user/OneDrive - Ltd.E-Promo/Desktop/диплом/data_91663710/91663710_0421_0821(withoutcat).csv')"
   ]
  }
 ],
 "metadata": {
  "kernelspec": {
   "display_name": "Python 3 (ipykernel)",
   "language": "python",
   "name": "python3"
  },
  "language_info": {
   "codemirror_mode": {
    "name": "ipython",
    "version": 3
   },
   "file_extension": ".py",
   "mimetype": "text/x-python",
   "name": "python",
   "nbconvert_exporter": "python",
   "pygments_lexer": "ipython3",
   "version": "3.10.4"
  }
 },
 "nbformat": 4,
 "nbformat_minor": 5
}
