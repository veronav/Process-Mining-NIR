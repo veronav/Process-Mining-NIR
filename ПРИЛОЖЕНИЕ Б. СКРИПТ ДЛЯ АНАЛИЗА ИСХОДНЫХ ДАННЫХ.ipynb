{
 "cells": [
  {
   "cell_type": "code",
   "execution_count": 5,
   "id": "201c9ba8",
   "metadata": {},
   "outputs": [],
   "source": [
    "# !pip3 install seaborn "
   ]
  },
  {
   "cell_type": "code",
   "execution_count": 4,
   "id": "4de466fb",
   "metadata": {},
   "outputs": [],
   "source": [
    "import pandas as pd\n",
    "import matplotlib.pyplot as plt\n",
    "import seaborn as sb\n",
    "import datetime as dt"
   ]
  },
  {
   "cell_type": "code",
   "execution_count": 19,
   "id": "82670f0a",
   "metadata": {},
   "outputs": [],
   "source": [
    "data_1_6_0322=pd.read_csv('/Users/nikaveroha/Desktop/диплом печеночный/data/client id (data mining) 1-6 марта.csv',  dtype={'Время суток':str, 'Минута':str, 'Client ID (Cust. Dim. 2 - S)':str})\n",
    "data_7_13_0322=pd.read_csv('/Users/nikaveroha/Desktop/диплом печеночный/data/client id (data mining) 7-13 м.csv',  dtype={'Время суток':str, 'Минута':str, 'Client ID (Cust. Dim. 2 - S)':str})\n",
    "data_14_20_0322=pd.read_csv('/Users/nikaveroha/Desktop/диплом печеночный/data/client id (data mining) 14-20 м.csv',  dtype={'Время суток':str, 'Минута':str, 'Client ID (Cust. Dim. 2 - S)':str})\n",
    "data_21_31_0322=pd.read_csv('/Users/nikaveroha/Desktop/диплом печеночный/data/client id (data mining) 21-31 м.csv',  dtype={'Время суток':str, 'Минута':str, 'Client ID (Cust. Dim. 2 - S)':str})"
   ]
  },
  {
   "cell_type": "code",
   "execution_count": 20,
   "id": "9ba5b044",
   "metadata": {},
   "outputs": [],
   "source": [
    "# соединение данных\n",
    "data = pd.concat([data_1_6_0322, data_7_13_0322, data_14_20_0322, data_21_31_0322],ignore_index=True)"
   ]
  },
  {
   "cell_type": "code",
   "execution_count": 21,
   "id": "957e8da6",
   "metadata": {},
   "outputs": [
    {
     "data": {
      "text/html": [
       "<div>\n",
       "<style scoped>\n",
       "    .dataframe tbody tr th:only-of-type {\n",
       "        vertical-align: middle;\n",
       "    }\n",
       "\n",
       "    .dataframe tbody tr th {\n",
       "        vertical-align: top;\n",
       "    }\n",
       "\n",
       "    .dataframe thead th {\n",
       "        text-align: right;\n",
       "    }\n",
       "</style>\n",
       "<table border=\"1\" class=\"dataframe\">\n",
       "  <thead>\n",
       "    <tr style=\"text-align: right;\">\n",
       "      <th></th>\n",
       "      <th>Client ID (Cust. Dim. 2 - S)</th>\n",
       "      <th>Категория событий</th>\n",
       "      <th>Действие по событию</th>\n",
       "      <th>Время суток</th>\n",
       "      <th>Минута</th>\n",
       "      <th>Пользователи</th>\n",
       "    </tr>\n",
       "  </thead>\n",
       "  <tbody>\n",
       "    <tr>\n",
       "      <th>0</th>\n",
       "      <td>1000002170.1646539984</td>\n",
       "      <td>Internal Marketing</td>\n",
       "      <td>Promotion Impression</td>\n",
       "      <td>2022030607</td>\n",
       "      <td>13</td>\n",
       "      <td>1</td>\n",
       "    </tr>\n",
       "    <tr>\n",
       "      <th>1</th>\n",
       "      <td>1000002170.1646539984</td>\n",
       "      <td>Product List</td>\n",
       "      <td>Hub_Category_2017 | M04 - Product Thumbnails |...</td>\n",
       "      <td>2022030607</td>\n",
       "      <td>13</td>\n",
       "      <td>1</td>\n",
       "    </tr>\n",
       "    <tr>\n",
       "      <th>2</th>\n",
       "      <td>1000002170.1646539984</td>\n",
       "      <td>Product List</td>\n",
       "      <td>Hub_Category_2017 | M04 - Product Thumbnails |...</td>\n",
       "      <td>2022030607</td>\n",
       "      <td>13</td>\n",
       "      <td>1</td>\n",
       "    </tr>\n",
       "    <tr>\n",
       "      <th>3</th>\n",
       "      <td>1000010595.1646255367</td>\n",
       "      <td>Internal Marketing</td>\n",
       "      <td>Promotion Click</td>\n",
       "      <td>2022030300</td>\n",
       "      <td>09</td>\n",
       "      <td>1</td>\n",
       "    </tr>\n",
       "    <tr>\n",
       "      <th>4</th>\n",
       "      <td>1000010595.1646255367</td>\n",
       "      <td>Internal Marketing</td>\n",
       "      <td>Promotion Click</td>\n",
       "      <td>2022030300</td>\n",
       "      <td>10</td>\n",
       "      <td>1</td>\n",
       "    </tr>\n",
       "    <tr>\n",
       "      <th>5</th>\n",
       "      <td>1000010595.1646255367</td>\n",
       "      <td>Internal Marketing</td>\n",
       "      <td>Promotion Impression</td>\n",
       "      <td>2022030300</td>\n",
       "      <td>09</td>\n",
       "      <td>1</td>\n",
       "    </tr>\n",
       "    <tr>\n",
       "      <th>6</th>\n",
       "      <td>1000010595.1646255367</td>\n",
       "      <td>Internal Marketing</td>\n",
       "      <td>Promotion Impression</td>\n",
       "      <td>2022030300</td>\n",
       "      <td>10</td>\n",
       "      <td>1</td>\n",
       "    </tr>\n",
       "    <tr>\n",
       "      <th>7</th>\n",
       "      <td>1000010595.1646255367</td>\n",
       "      <td>Internal Marketing</td>\n",
       "      <td>Promotion Impression</td>\n",
       "      <td>2022030300</td>\n",
       "      <td>11</td>\n",
       "      <td>1</td>\n",
       "    </tr>\n",
       "    <tr>\n",
       "      <th>8</th>\n",
       "      <td>1000010595.1646255367</td>\n",
       "      <td>Product List</td>\n",
       "      <td>Category | Product Thumbnails | Подарки Clicks</td>\n",
       "      <td>2022030300</td>\n",
       "      <td>12</td>\n",
       "      <td>1</td>\n",
       "    </tr>\n",
       "    <tr>\n",
       "      <th>9</th>\n",
       "      <td>1000010595.1646255367</td>\n",
       "      <td>Product List</td>\n",
       "      <td>Category | Product Thumbnails | Подарки impres...</td>\n",
       "      <td>2022030300</td>\n",
       "      <td>12</td>\n",
       "      <td>1</td>\n",
       "    </tr>\n",
       "    <tr>\n",
       "      <th>10</th>\n",
       "      <td>1000010595.1646255367</td>\n",
       "      <td>Product List</td>\n",
       "      <td>Category | Product Thumbnails | Подарки impres...</td>\n",
       "      <td>2022030300</td>\n",
       "      <td>14</td>\n",
       "      <td>1</td>\n",
       "    </tr>\n",
       "  </tbody>\n",
       "</table>\n",
       "</div>"
      ],
      "text/plain": [
       "   Client ID (Cust. Dim. 2 - S)   Категория событий  \\\n",
       "0         1000002170.1646539984  Internal Marketing   \n",
       "1         1000002170.1646539984        Product List   \n",
       "2         1000002170.1646539984        Product List   \n",
       "3         1000010595.1646255367  Internal Marketing   \n",
       "4         1000010595.1646255367  Internal Marketing   \n",
       "5         1000010595.1646255367  Internal Marketing   \n",
       "6         1000010595.1646255367  Internal Marketing   \n",
       "7         1000010595.1646255367  Internal Marketing   \n",
       "8         1000010595.1646255367        Product List   \n",
       "9         1000010595.1646255367        Product List   \n",
       "10        1000010595.1646255367        Product List   \n",
       "\n",
       "                                  Действие по событию Время суток Минута  \\\n",
       "0                                Promotion Impression  2022030607     13   \n",
       "1   Hub_Category_2017 | M04 - Product Thumbnails |...  2022030607     13   \n",
       "2   Hub_Category_2017 | M04 - Product Thumbnails |...  2022030607     13   \n",
       "3                                     Promotion Click  2022030300     09   \n",
       "4                                     Promotion Click  2022030300     10   \n",
       "5                                Promotion Impression  2022030300     09   \n",
       "6                                Promotion Impression  2022030300     10   \n",
       "7                                Promotion Impression  2022030300     11   \n",
       "8      Category | Product Thumbnails | Подарки Clicks  2022030300     12   \n",
       "9   Category | Product Thumbnails | Подарки impres...  2022030300     12   \n",
       "10  Category | Product Thumbnails | Подарки impres...  2022030300     14   \n",
       "\n",
       "    Пользователи  \n",
       "0              1  \n",
       "1              1  \n",
       "2              1  \n",
       "3              1  \n",
       "4              1  \n",
       "5              1  \n",
       "6              1  \n",
       "7              1  \n",
       "8              1  \n",
       "9              1  \n",
       "10             1  "
      ]
     },
     "execution_count": 21,
     "metadata": {},
     "output_type": "execute_result"
    }
   ],
   "source": [
    "# исходные данные за период март 2022 года\n",
    "data.head(11)"
   ]
  },
  {
   "cell_type": "code",
   "execution_count": 22,
   "id": "7b7167be",
   "metadata": {},
   "outputs": [
    {
     "name": "stdout",
     "output_type": "stream",
     "text": [
      "<class 'pandas.core.frame.DataFrame'>\n",
      "RangeIndex: 2928472 entries, 0 to 2928471\n",
      "Data columns (total 6 columns):\n",
      " #   Column                        Dtype \n",
      "---  ------                        ----- \n",
      " 0   Client ID (Cust. Dim. 2 - S)  object\n",
      " 1   Категория событий             object\n",
      " 2   Действие по событию           object\n",
      " 3   Время суток                   object\n",
      " 4   Минута                        object\n",
      " 5   Пользователи                  int64 \n",
      "dtypes: int64(1), object(5)\n",
      "memory usage: 134.1+ MB\n"
     ]
    }
   ],
   "source": [
    "data.info()"
   ]
  },
  {
   "cell_type": "code",
   "execution_count": 23,
   "id": "7000884e",
   "metadata": {},
   "outputs": [],
   "source": [
    "# преобразование даты\n",
    "data['Дата']=data['Время суток']+data['Минута']\n",
    "data[\"Дата\"] = pd.to_datetime(data[\"Дата\"])"
   ]
  },
  {
   "cell_type": "code",
   "execution_count": 24,
   "id": "bf220328",
   "metadata": {},
   "outputs": [
    {
     "data": {
      "text/plain": [
       "array(['Internal Marketing', 'Product List', 'Cart', 'Account',\n",
       "       'Checkout', 'Search', 'Store Locator', 'Product', 'Video',\n",
       "       'Contact', 'Franchise'], dtype=object)"
      ]
     },
     "execution_count": 24,
     "metadata": {},
     "output_type": "execute_result"
    }
   ],
   "source": [
    "# вывод уникальных значений категорий событий\n",
    "data[\"Категория событий\"].unique()"
   ]
  },
  {
   "cell_type": "code",
   "execution_count": 25,
   "id": "dd8e106a",
   "metadata": {},
   "outputs": [
    {
     "name": "stdout",
     "output_type": "stream",
     "text": [
      "Internal Marketing: ['Promotion Impression' 'Promotion Click']\n",
      "Product List: ['Hub_Category_2017 | M04 - Product Thumbnails | Рекомендуемые продукты impressions'\n",
      " 'Hub_Category_2017 | M04 - Product Thumbnails | Рекомендуемые продукты View'\n",
      " 'Category | Product Thumbnails | Подарки Clicks' ...\n",
      " 'Search | Product Thumbnails | результат поиска лосьон для рук Clicks'\n",
      " 'Category | Product Thumbnails | Make up Clicks'\n",
      " 'Search | Product Thumbnails | результат поиска карите 25% Clicks']\n",
      "Cart: ['Add To Cart' 'Remove from cart' 'Click on Checkout AB test' 'Empty Cart']\n",
      "Account: ['Login' 'Creation' 'Skincare Diagnostic Completed'\n",
      " 'Beauty Profile Completed' 'Click on Login/Signup']\n",
      "Checkout: ['Delivery Options' 'Payment Methods' 'Purchase' 'undefined' 'Step'\n",
      " 'Creation']\n",
      "Search: ['filter' 'Filter' 'Sort']\n",
      "Store Locator: ['Boutique Click' 'Filter' 'Change Tab']\n",
      "Product: ['Review Button Click' 'Add to Wishlist' 'Clicks on Pictures'\n",
      " 'Click on БЕСТСЕЛЛЕРЫ tab' 'Click on ПОДАРКИ tab'\n",
      " 'Click on ПРИМЕНЕНИЕ tab' 'Click on ЦЕДРАТ tab' 'Check Stock in Store'\n",
      " 'Click on ИНГРЕДИЕНТЫ tab' 'Click on МЫЛО tab'\n",
      " 'Click on AQUA REOTIER tab' 'Click on ИММОРТЕЛЬ tab'\n",
      " 'Click on ОПИСАНИЕ tab' 'Click on ВЕРБЕНА tab'\n",
      " 'Back In Stock Notification' 'Click on КАРИТЕ tab' 'Click on ПИОН tab'\n",
      " 'Click on АРОМАКОЛОГИЯ tab' 'Click on ВИШНЁВЫЙ ЦВЕТ tab'\n",
      " 'Click on TERRE DE LUMIÈRE tab' 'Click on РОЗА tab'\n",
      " 'Click on МИНДАЛЬ tab' 'Click on ЛАВАНДА tab' 'Click on БО tab'\n",
      " 'Click on НОВИНКИ tab' 'Click on ЛИЦО tab' 'Review Submitted'\n",
      " 'Click on БЕЛАЯ КОРОЛЕВА tab' 'Click on АКЦИИ tab' 'Click on ТЕЛО tab'\n",
      " 'Click on О НАС tab' 'Click on БОНН МЕР tab'\n",
      " 'Click on ДЛЯ ТЕЛА И РУК tab' 'Click on ТРЕВЕЛ-ФОРМАТЫ tab'\n",
      " 'Click on BESTSELLERS tab' 'Click on ПАРФЮМЕРИЯ tab' 'Click on ЛИНИИ tab'\n",
      " 'Click on ГРЕЙПФРУТ-РЕВЕНЬ tab' 'Click on ДЛЯ МУЖЧИН tab'\n",
      " 'Click on МОЖЖЕВЕЛЬНИК tab' \"Click on Л'ОКСИТАН tab\"\n",
      " 'Click on ВОЛОСЫ tab' 'Click on КОЛЛЕКЦИЯ ИЗ ГРАССА tab'\n",
      " 'Click on APPLICATION tab' 'Click on 畅销书 tab' 'Click on АРЛЕЗЬЕН tab'\n",
      " 'Click on 卡莱特 tab' 'Click on 应用 tab'\n",
      " 'Click on ЖАСМИН-ИММОРТЕЛЬ-НЕРОЛИ tab' 'Click on DESCRIPTION tab'\n",
      " 'Click on INGREDIENTS tab' 'Click on МАКИЯЖ tab'\n",
      " 'Click on IMMORTELLE tab' 'Click on 马鞭草 tab' 'Click on КАРИТЭ tab']\n",
      "Video: ['100%' '25%' '50%' '75%' 'Play' 'Watch to End']\n",
      "Contact: ['Newsletter subscription']\n",
      "Franchise: ['Send Form Button']\n"
     ]
    }
   ],
   "source": [
    "# вывод уникальных значений действий\n",
    "print(\"Internal Marketing:\", data['Действие по событию'].loc[data['Категория событий']== 'Internal Marketing'].unique())\n",
    "print(\"Product List:\", data['Действие по событию'].loc[data['Категория событий']== 'Product List'].unique())\n",
    "print(\"Cart:\",data['Действие по событию'].loc[data['Категория событий']== 'Cart'].unique())\n",
    "print(\"Account:\",data['Действие по событию'].loc[data['Категория событий']== 'Account'].unique())\n",
    "print(\"Checkout:\",data['Действие по событию'].loc[data['Категория событий']== 'Checkout'].unique())\n",
    "print(\"Search:\",data['Действие по событию'].loc[data['Категория событий']== 'Search'].unique())\n",
    "print(\"Store Locator:\",data['Действие по событию'].loc[data['Категория событий']== 'Store Locator'].unique())\n",
    "print(\"Product:\",data['Действие по событию'].loc[data['Категория событий']== 'Product'].unique())\n",
    "print(\"Video:\",data['Действие по событию'].loc[data['Категория событий']== 'Video'].unique())\n",
    "print(\"Contact:\",data['Действие по событию'].loc[data['Категория событий']== 'Contact'].unique())\n",
    "print(\"Franchise:\",data['Действие по событию'].loc[data['Категория событий']== 'Franchise'].unique())"
   ]
  },
  {
   "cell_type": "code",
   "execution_count": 26,
   "id": "79a94b41",
   "metadata": {},
   "outputs": [
    {
     "data": {
      "text/plain": [
       "1"
      ]
     },
     "execution_count": 26,
     "metadata": {},
     "output_type": "execute_result"
    }
   ],
   "source": [
    "# значение числа пользователей\n",
    "data[\"Пользователи\"].nunique()"
   ]
  },
  {
   "cell_type": "code",
   "execution_count": 27,
   "id": "fec90c65",
   "metadata": {},
   "outputs": [
    {
     "name": "stdout",
     "output_type": "stream",
     "text": [
      "              category    count\n",
      "0         Product List  2076868\n",
      "1   Internal Marketing   599294\n",
      "2                 Cart   114443\n",
      "3             Checkout    49776\n",
      "4              Product    34893\n",
      "5               Search    33879\n",
      "6              Account    15523\n",
      "7        Store Locator     3092\n",
      "8                Video      349\n",
      "9              Contact      329\n",
      "10           Franchise       26\n"
     ]
    },
    {
     "data": {
      "image/png": "[encoded data removed]",
      "text/plain": [
       "<Figure size 432x288 with 1 Axes>"
      ]
     },
     "metadata": {
      "needs_background": "light"
     },
     "output_type": "display_data"
    }
   ],
   "source": [
    "# частота происходящих событий среди пользователейй\n",
    "data[\"Категория событий\"].value_counts()\n",
    "data_category=pd.DataFrame(data[\"Категория событий\"].value_counts().reset_index().values,  columns=[\"category\", \"count\"])\n",
    "print(data_category)\n",
    "plt.bar(data_category[\"category\"], data_category[\"count\"])\n",
    "plt.xticks(rotation=45, ha='right')\n",
    "plt.xlabel(\"Категория событий\")\n",
    "plt.ylabel(\"Количество пользователей\")\n",
    "plt.show()"
   ]
  },
  {
   "cell_type": "code",
   "execution_count": 28,
   "id": "532e6175",
   "metadata": {},
   "outputs": [
    {
     "data": {
      "text/plain": [
       "196757"
      ]
     },
     "execution_count": 28,
     "metadata": {},
     "output_type": "execute_result"
    }
   ],
   "source": [
    "# количество уникальных совпадений в data[\"Client ID (Cust. Dim. 2 - S)\"]\n",
    "data[\"Client ID (Cust. Dim. 2 - S)\"].nunique()"
   ]
  },
  {
   "cell_type": "code",
   "execution_count": 30,
   "id": "0e6d16ed",
   "metadata": {},
   "outputs": [
    {
     "data": {
      "image/png": "[encoded data removed]",
      "text/plain": [
       "<Figure size 432x288 with 1 Axes>"
      ]
     },
     "metadata": {
      "needs_background": "light"
     },
     "output_type": "display_data"
    }
   ],
   "source": [
    "#  распределение пользователей по дням\n",
    "day=pd.Grouper(key=\"Дата\", freq=\"D\")\n",
    "data_day=data.groupby([day])\\\n",
    "                .sum().reset_index()\n",
    "\n",
    "plt.plot(data_day[\"Дата\"], data_day[\"Пользователи\"], label = 'Пользователи')\n",
    "plt.xticks(rotation=45, ha='right')\n",
    "plt.legend(loc=5)\n",
    "plt.xlabel(\"Дата\")\n",
    "plt.ylabel(\"Количество пользователей\")\n",
    "plt.show()"
   ]
  },
  {
   "cell_type": "code",
   "execution_count": null,
   "id": "4e11cc1f",
   "metadata": {},
   "outputs": [],
   "source": [
    "# разбиение на более общие группы\n",
    "data['Действие по событию'].loc[data['Категория событий']== 'Product List'] = 'View'\n",
    "\n",
    "data['Действие по событию'].loc[((data['Категория событий']== 'Product') \n",
    "                                 & (data['Действие по событию']!= 'Review Button Click')\n",
    "                                 & (data['Действие по событию']!= 'Add to Wishlist')\n",
    "                                 & (data['Действие по событию']!= 'Clicks on Pictures')\n",
    "                                 & (data['Действие по событию']!= 'Review Submitted'))\n",
    "                               ] = 'Clicks on the card'"
   ]
  }
 ],
 "metadata": {
  "kernelspec": {
   "display_name": "Python 3 (ipykernel)",
   "language": "python",
   "name": "python3"
  },
  "language_info": {
   "codemirror_mode": {
    "name": "ipython",
    "version": 3
   },
   "file_extension": ".py",
   "mimetype": "text/x-python",
   "name": "python",
   "nbconvert_exporter": "python",
   "pygments_lexer": "ipython3",
   "version": "3.10.4"
  }
 },
 "nbformat": 4,
 "nbformat_minor": 5
}
